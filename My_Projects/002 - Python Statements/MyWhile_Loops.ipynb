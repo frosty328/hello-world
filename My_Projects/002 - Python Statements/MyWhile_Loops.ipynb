{
 "cells": [
  {
   "cell_type": "code",
   "execution_count": 2,
   "metadata": {},
   "outputs": [
    {
     "name": "stdout",
     "output_type": "stream",
     "text": [
      "The current value of x is 0\n",
      "The current value of x is 1\n",
      "The current value of x is 2\n",
      "The current value of x is 3\n",
      "The current value of x is 4\n"
     ]
    }
   ],
   "source": [
    "x = 0\n",
    "\n",
    "while x < 5:\n",
    "    print(f'The current value of x is {x}')\n",
    "    x += 1"
   ]
  },
  {
   "cell_type": "code",
   "execution_count": 4,
   "metadata": {},
   "outputs": [
    {
     "name": "stdout",
     "output_type": "stream",
     "text": [
      "X IS NOT LESS THAN 5\n"
     ]
    }
   ],
   "source": [
    "x = 50\n",
    "\n",
    "while x < 5:\n",
    "    print(f'The current value of x is {x}')\n",
    "    x += 1\n",
    "else:\n",
    "    print(\"X IS NOT LESS THAN 5\")"
   ]
  },
  {
   "cell_type": "code",
   "execution_count": 5,
   "metadata": {},
   "outputs": [],
   "source": [
    "#Time to learn break, countine, and pass"
   ]
  },
  {
   "cell_type": "code",
   "execution_count": 8,
   "metadata": {},
   "outputs": [
    {
     "name": "stdout",
     "output_type": "stream",
     "text": [
      "end of my script\n"
     ]
    }
   ],
   "source": [
    "x = [1,2,3]\n",
    "\n",
    "#Use pass to do nothing at all. Useful when you have some code that\n",
    "#you have not completed and want to come back to.\n",
    "for item in x:\n",
    "    pass\n",
    "\n",
    "print('end of my script')"
   ]
  },
  {
   "cell_type": "code",
   "execution_count": 9,
   "metadata": {},
   "outputs": [],
   "source": [
    "mystring = 'sammy'"
   ]
  },
  {
   "cell_type": "code",
   "execution_count": 14,
   "metadata": {},
   "outputs": [
    {
     "name": "stdout",
     "output_type": "stream",
     "text": [
      "a\n",
      "m\n",
      "m\n",
      "y\n"
     ]
    }
   ],
   "source": [
    "#Continue goes to the top of the closest enclosing loop. Essentially\n",
    "#is does not output the value set if it meets the continue condition\n",
    "\n",
    "for letter in mystring:\n",
    "    if letter == 's':\n",
    "        continue\n",
    "    print(letter)"
   ]
  },
  {
   "cell_type": "code",
   "execution_count": 18,
   "metadata": {},
   "outputs": [
    {
     "name": "stdout",
     "output_type": "stream",
     "text": [
      "s\n",
      "a\n"
     ]
    }
   ],
   "source": [
    "#Break - Breaks\n",
    "\n",
    "for letter in mystring:\n",
    "    if letter == 'm':\n",
    "        break\n",
    "    print(letter)"
   ]
  },
  {
   "cell_type": "code",
   "execution_count": 28,
   "metadata": {},
   "outputs": [
    {
     "name": "stdout",
     "output_type": "stream",
     "text": [
      "0\n",
      "1\n"
     ]
    }
   ],
   "source": [
    "x = 0\n",
    "while x < 5:\n",
    "    if x == 2:\n",
    "        break\n",
    "    print(x)\n",
    "    x += 1"
   ]
  },
  {
   "cell_type": "code",
   "execution_count": 70,
   "metadata": {
    "scrolled": true
   },
   "outputs": [
    {
     "name": "stdout",
     "output_type": "stream",
     "text": [
      "Frosty_Ship Took 1HP from 100\n",
      "Frosty_Ship Took 1HP from 99\n",
      "Frosty_Ship Took 1HP from 98\n",
      "Frosty_Ship Took 1HP from 97\n",
      "Frosty_Ship Took 1HP from 96\n",
      "Frosty_Ship Took 1HP from 95\n",
      "Frosty_Ship Took 1HP from 94\n",
      "Frosty_Ship Took 1HP from 93\n",
      "Frosty_Ship Took 1HP from 92\n",
      "Frosty_Ship Took 1HP from 91\n",
      "Frosty_Ship Took 1HP from 90\n",
      "Frosty_Ship Took 1HP from 89\n",
      "Frosty_Ship Took 1HP from 88\n",
      "Frosty_Ship Took 1HP from 87\n",
      "Frosty_Ship Took 1HP from 86\n",
      "Frosty_Ship Took 1HP from 85\n",
      "Frosty_Ship Took 1HP from 84\n",
      "Frosty_Ship Took 1HP from 83\n",
      "Frosty_Ship Took 1HP from 82\n",
      "Frosty_Ship Took 1HP from 81\n",
      "Frosty_Ship Took 1HP from 80\n",
      "Frosty_Ship Took 1HP from 79\n",
      "Frosty_Ship Took 1HP from 78\n",
      "Frosty_Ship Took 1HP from 77\n",
      "Frosty_Ship Took 1HP from 76\n",
      "Frosty_Ship Took 1HP from 75\n",
      "Frosty_Ship Took 1HP from 74\n",
      "Frosty_Ship Took 1HP from 73\n",
      "Frosty_Ship Took 1HP from 72\n",
      "Frosty_Ship Took 1HP from 71\n",
      "Frosty_Ship Took 1HP from 70\n",
      "Frosty_Ship Took 1HP from 69\n",
      "Frosty_Ship Took 1HP from 68\n",
      "Frosty_Ship Took 1HP from 67\n",
      "Frosty_Ship Took 1HP from 66\n",
      "Frosty_Ship Took 1HP from 65\n",
      "Frosty_Ship Took 1HP from 64\n",
      "Frosty_Ship Took 1HP from 63\n",
      "Frosty_Ship Took 1HP from 62\n",
      "Frosty_Ship Took 1HP from 61\n",
      "Frosty_Ship Took 1HP from 60\n",
      "Frosty_Ship Took 1HP from 59\n",
      "Frosty_Ship Took 1HP from 58\n",
      "Frosty_Ship Took 1HP from 57\n",
      "Frosty_Ship Took 1HP from 56\n",
      "Frosty_Ship Took 1HP from 55\n",
      "Frosty_Ship Took 1HP from 54\n",
      "Frosty_Ship Took 1HP from 53\n",
      "Frosty_Ship Took 1HP from 52\n",
      "Frosty_Ship Took 1HP from 51\n",
      "Frosty_Ship Took 1HP from 50 .Only 50% of health remaining!\n",
      "Frosty_Ship Took 1HP from 49\n",
      "Frosty_Ship Took 1HP from 48\n",
      "Frosty_Ship Took 1HP from 47\n",
      "Frosty_Ship Took 1HP from 46\n",
      "Frosty_Ship Took 1HP from 45\n",
      "Frosty_Ship Took 1HP from 44\n",
      "Frosty_Ship Took 1HP from 43\n",
      "Frosty_Ship Took 1HP from 42\n",
      "Frosty_Ship Took 1HP from 41\n",
      "Frosty_Ship Took 1HP from 40\n",
      "Frosty_Ship Took 1HP from 39\n",
      "Frosty_Ship Took 1HP from 38\n",
      "Frosty_Ship Took 1HP from 37\n",
      "Frosty_Ship Took 1HP from 36\n",
      "Frosty_Ship Took 1HP from 35\n",
      "Frosty_Ship Took 1HP from 34\n",
      "Frosty_Ship Took 1HP from 33\n",
      "Frosty_Ship Took 1HP from 32\n",
      "Frosty_Ship Took 1HP from 31\n",
      "Frosty_Ship Took 1HP from 30\n",
      "Frosty_Ship Took 1HP from 29\n",
      "Frosty_Ship Took 1HP from 28\n",
      "Frosty_Ship Took 1HP from 27\n",
      "Frosty_Ship Took 1HP from 26\n",
      "Frosty_Ship Took 1HP from 25\n",
      "Frosty_Ship Took 1HP from 24\n",
      "Frosty_Ship Took 1HP from 23\n",
      "Frosty_Ship Took 1HP from 22\n",
      "Frosty_Ship Took 1HP from 21\n",
      "Frosty_Ship Took 1HP from 20\n",
      "Frosty_Ship Took 1HP from 19\n",
      "Frosty_Ship Took 1HP from 18\n",
      "Frosty_Ship Took 1HP from 17\n",
      "Frosty_Ship Took 1HP from 16\n",
      "Frosty_Ship Took 1HP from 15\n",
      "Frosty_Ship Took 1HP from 14\n",
      "Frosty_Ship Took 1HP from 13\n",
      "Frosty_Ship Took 1HP from 12\n",
      "Frosty_Ship Took 1HP from 11\n",
      "Frosty_Ship Took 1HP from 10\n",
      "Frosty_Ship Took 1HP from 9\n",
      "Frosty_Ship Took 1HP from 8\n",
      "Frosty_Ship Took 1HP from 7\n",
      "Frosty_Ship Took 1HP from 6\n",
      "Frosty_Ship Took 1HP from 5\n",
      "Frosty_Ship Took 1HP from 4\n",
      "Frosty_Ship Took 1HP from 3\n",
      "Frosty_Ship Took 1HP from 2\n",
      "Frosty_Ship Took 1HP from 1\n",
      "Frosty_Ship Destroyed!\n"
     ]
    }
   ],
   "source": [
    "hp = 100\n",
    "name = 'Frosty_Ship'\n",
    "\n",
    "while hp >= 0:\n",
    "    if hp ==50:\n",
    "        print(name,'Took 1HP from', hp,'.Only 50% of health remaining!')\n",
    "        hp = hp - 1\n",
    "    elif hp >=1:\n",
    "        print (name, 'Took 1HP', 'from', hp)\n",
    "        hp = hp - 1\n",
    "    else:\n",
    "        print(name,'Destroyed!')\n",
    "        break"
   ]
  },
  {
   "cell_type": "code",
   "execution_count": null,
   "metadata": {},
   "outputs": [],
   "source": [
    "# "
   ]
  }
 ],
 "metadata": {
  "kernelspec": {
   "display_name": "Python 3",
   "language": "python",
   "name": "python3"
  },
  "language_info": {
   "codemirror_mode": {
    "name": "ipython",
    "version": 3
   },
   "file_extension": ".py",
   "mimetype": "text/x-python",
   "name": "python",
   "nbconvert_exporter": "python",
   "pygments_lexer": "ipython3",
   "version": "3.7.4"
  }
 },
 "nbformat": 4,
 "nbformat_minor": 2
}
