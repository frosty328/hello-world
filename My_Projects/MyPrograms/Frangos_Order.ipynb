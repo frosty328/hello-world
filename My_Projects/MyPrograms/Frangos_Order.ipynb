{
 "cells": [
  {
   "cell_type": "code",
   "execution_count": 77,
   "metadata": {},
   "outputs": [
    {
     "name": "stdout",
     "output_type": "stream",
     "text": [
      "__________Name___________ | _____________________________________Order______________________________________ | _Spice__\n",
      "     Kiera Mitchell       |                 1x Pulled Chicken Wrap with BBQ Fries, 7up drink                 | Medium\n",
      " Lauchlan Wyndham-Birch   |        Pulled chicken wrap, Piri chips (cheese and pineapple in the wrap)        | Lemon+Herb\n",
      "       Marcin Stos        |                  half chicken + chips and drink (Normal Pepsi)                   | Medium\n",
      "       Philip Hill        |                Half chicken peri peri chips, Pepsi max raspberry                 | Extra hot\n",
      "     Zachary Halili       |                   half chicken with piri piri chips and 7-up                     | Lemon+Herb\n",
      "        James Ash         |                               Chicken Caesar salad                               | Unknown\n",
      "       Chris Jones        |                     Pulled Chicken with spicy rice and tango                     | Lemon+Herb\n",
      "       Tom Brookes        |                                   Thigh Burger                                   | Medium\n",
      "     Kenneth Winter       |                           Pulled Chicken Burger (wrap)                           | Medium\n",
      "     David Glasspool      |                Chicken Wrap, Sweet potato fries. 3 chicken wings                 | Hot\n",
      "     Mitchell Barlow      |                      Half chicken meal please with a Pepsi                       | Medium\n",
      "       Matthew Lee        |                    Pulled chicken wrap add cheese and a tango                    | Lemon+Herb\n",
      "       Alan Frost         |                  Half a chicken with plain chips and pepsi zero                  | Medium\n",
      "        Glen Ewer         |                                                                                  |  \n",
      "      Musa Sanyang        |                                                                                  |  \n",
      "       Rob Samonte        |                                                                                  |  \n",
      "     Surath Liyanage      |                                                                                  |  \n",
      "       Melih Erbas        |                                                                                  |  \n",
      "       Jon Lister         |                   3 chicken wings, BBQ chips, and a Pepsi max                    | Extra hot\n"
     ]
    }
   ],
   "source": [
    "print('{0:_^25} | {1:_^80} | {2:_^8}'.format('Name','Order','Spice'))\n",
    "print('{0:^25} | {1:^80} | {2:<1}'.format('Kiera Mitchell','1x Pulled Chicken Wrap with BBQ Fries, 7up drink','Medium'))\n",
    "print('{0:^25} | {1:^80} | {2:>1}'.format('Lauchlan Wyndham-Birch','Pulled chicken wrap, Piri chips (cheese and pineapple in the wrap)','Lemon+Herb'))\n",
    "print('{0:^25} | {1:^80} | {2:>1}'.format('Marcin Stos','half chicken + chips and drink (Normal Pepsi)','Medium'))\n",
    "print('{0:^25} | {1:^80} | {2:>1}'.format('Philip Hill', 'Half chicken peri peri chips, Pepsi max raspberry','Extra hot'))\n",
    "print('{0:^25} | {1:^80} | {2:>1}'.format('Zachary Halili', 'half chicken with piri piri chips and 7-up ','Lemon+Herb'))\n",
    "print('{0:^25} | {1:^80} | {2:>1}'.format('James Ash', 'Chicken Caesar salad','Unknown'))\n",
    "print('{0:^25} | {1:^80} | {2:>1}'.format('Chris Jones', 'Pulled Chicken with spicy rice and tango','Lemon+Herb'))\n",
    "print('{0:^25} | {1:^80} | {2:>1}'.format('Tom Brookes', 'Thigh Burger','Medium'))\n",
    "print('{0:^25} | {1:^80} | {2:>1}'.format('Kenneth Winter', 'Pulled Chicken Burger (wrap)','Medium'))\n",
    "print('{0:^25} | {1:^80} | {2:>1}'.format('David Glasspool', 'Chicken Wrap, Sweet potato fries. 3 chicken wings','Hot'))\n",
    "print('{0:^25} | {1:^80} | {2:>1}'.format('Mitchell Barlow', 'Half chicken meal please with a Pepsi','Medium'))\n",
    "print('{0:^25} | {1:^80} | {2:>1}'.format('Matthew Lee', 'Pulled chicken wrap add cheese and a tango','Lemon+Herb'))\n",
    "print('{0:^25} | {1:^80} | {2:>1}'.format('Alan Frost', 'Half a chicken with plain chips and pepsi zero','Medium'))\n",
    "print('{0:^25} | {1:^80} | {2:>1}'.format('Glen Ewer', '',''))\n",
    "print('{0:^25} | {1:^80} | {2:>1}'.format('Musa Sanyang', '',''))\n",
    "print('{0:^25} | {1:^80} | {2:>1}'.format('Rob Samonte', '',''))\n",
    "print('{0:^25} | {1:^80} | {2:>1}'.format('Surath Liyanage', '',''))\n",
    "print('{0:^25} | {1:^80} | {2:>1}'.format('Melih Erbas', '',''))\n",
    "print('{0:^25} | {1:^80} | {2:>1}'.format('Jon Lister', '3 chicken wings, BBQ chips, and a Pepsi max','Extra hot'))"
   ]
  },
  {
   "cell_type": "code",
   "execution_count": null,
   "metadata": {},
   "outputs": [],
   "source": [
    "Frangos_Dict = {\"Pulled Chicken wrap\"}"
   ]
  }
 ],
 "metadata": {
  "kernelspec": {
   "display_name": "Python 3",
   "language": "python",
   "name": "python3"
  },
  "language_info": {
   "codemirror_mode": {
    "name": "ipython",
    "version": 3
   },
   "file_extension": ".py",
   "mimetype": "text/x-python",
   "name": "python",
   "nbconvert_exporter": "python",
   "pygments_lexer": "ipython3",
   "version": "3.7.4"
  }
 },
 "nbformat": 4,
 "nbformat_minor": 2
}
