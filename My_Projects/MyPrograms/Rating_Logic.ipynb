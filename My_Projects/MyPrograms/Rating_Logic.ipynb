{
 "cells": [
  {
   "cell_type": "code",
   "execution_count": 47,
   "metadata": {},
   "outputs": [
    {
     "name": "stdout",
     "output_type": "stream",
     "text": [
      "Nasser===== | ******Sam******* | ####Alan\n",
      "0========== | *******50******* | #####100\n",
      "broke his knee | scrub LoL player | pure and utter God\n"
     ]
    }
   ],
   "source": [
    "print('{0:=<11} | {1:*^16} | {2:#>8}'.format(Nasser, Sam, Alan))\n",
    "print('{0:=<11} | {1:*^16} | {2:#>8}'.format(0,50,100))\n",
    "print('{0:=<8} | {1:*^10} | {2:#>8}'.format(a, b , c))"
   ]
  },
  {
   "cell_type": "code",
   "execution_count": 43,
   "metadata": {},
   "outputs": [],
   "source": [
    "a = 'broke his knee'\n",
    "b = 'scrub LoL player'\n",
    "c = 'pure and utter God'\n",
    "Nasser = 'Nasser'\n",
    "Sam = 'Sam'\n",
    "Alan = 'Alan'"
   ]
  },
  {
   "cell_type": "code",
   "execution_count": 44,
   "metadata": {},
   "outputs": [
    {
     "name": "stdout",
     "output_type": "stream",
     "text": [
      "Nasser broke his knee, now he cannot play his dear old football anymore. Sam, the scrub LoL player, still thinks he can be the best LoL player. For we must pray to our pure and utter God Alan to set things, and cure them of their afflictions.\n"
     ]
    }
   ],
   "source": [
    "print(f\"{Nasser} {a}, now he cannot play his dear old football anymore. {Sam}, the {b}, still thinks he can be the best LoL player. For we must pray to our {c} {Alan} to set things, and cure them of their afflictions.\")"
   ]
  },
  {
   "cell_type": "code",
   "execution_count": 45,
   "metadata": {},
   "outputs": [],
   "source": [
    "del team_leader_list"
   ]
  },
  {
   "cell_type": "code",
   "execution_count": null,
   "metadata": {},
   "outputs": [],
   "source": []
  }
 ],
 "metadata": {
  "kernelspec": {
   "display_name": "Python 3",
   "language": "python",
   "name": "python3"
  },
  "language_info": {
   "codemirror_mode": {
    "name": "ipython",
    "version": 3
   },
   "file_extension": ".py",
   "mimetype": "text/x-python",
   "name": "python",
   "nbconvert_exporter": "python",
   "pygments_lexer": "ipython3",
   "version": "3.7.4"
  }
 },
 "nbformat": 4,
 "nbformat_minor": 2
}
